{
  "nbformat": 4,
  "nbformat_minor": 0,
  "metadata": {
    "colab": {
      "provenance": [],
      "authorship_tag": "ABX9TyN3hBby7dVJHQQXujyNTnxL",
      "include_colab_link": true
    },
    "kernelspec": {
      "name": "python3",
      "display_name": "Python 3"
    },
    "language_info": {
      "name": "python"
    }
  },
  "cells": [
    {
      "cell_type": "markdown",
      "metadata": {
        "id": "view-in-github",
        "colab_type": "text"
      },
      "source": [
        "<a href=\"https://colab.research.google.com/github/ruslanpronkin/python_lessons_2024/blob/main/1_%D0%BC%D0%B4_21_%D0%BE%D1%81%D0%BD%D0%BE%D0%B2%D1%8B_%D0%B0%D0%BB%D0%B3%D0%BE%D1%80%D0%B8%D1%82%D0%BC%D0%B8%D0%B7%D0%B0%D1%86%D0%B8%D0%B8_%D0%B8_%D0%BF%D1%80%D0%BE%D0%B3%D1%80%D0%B0%D0%BC%D0%BC%D0%B8%D1%80%D0%BE%D0%B2%D0%B0%D0%BD%D0%B8%D1%8F.ipynb\" target=\"_parent\"><img src=\"https://colab.research.google.com/assets/colab-badge.svg\" alt=\"Open In Colab\"/></a>"
      ]
    },
    {
      "cell_type": "markdown",
      "source": [
        "# 05.01.24 Знакомство со инструментами разработки программ на языке Python"
      ],
      "metadata": {
        "id": "8YD8-DEQKAOy"
      }
    },
    {
      "cell_type": "markdown",
      "source": [
        "1. GitHub<br>\n",
        "2. Google Colab"
      ],
      "metadata": {
        "id": "2ZCW66kgKNS2"
      }
    }
  ]
}